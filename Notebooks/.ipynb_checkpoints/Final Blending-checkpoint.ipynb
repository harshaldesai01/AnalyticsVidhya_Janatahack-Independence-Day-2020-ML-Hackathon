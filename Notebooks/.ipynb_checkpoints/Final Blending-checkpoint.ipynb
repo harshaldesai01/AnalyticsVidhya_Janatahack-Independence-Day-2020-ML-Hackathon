{
 "cells": [
  {
   "cell_type": "code",
   "execution_count": 1,
   "metadata": {},
   "outputs": [],
   "source": [
    "import pandas as pd"
   ]
  },
  {
   "cell_type": "code",
   "execution_count": 2,
   "metadata": {},
   "outputs": [],
   "source": [
    "sub1 = pd.read_csv('../Probabilities/sub1-4_proba.csv')"
   ]
  },
  {
   "cell_type": "code",
   "execution_count": 3,
   "metadata": {},
   "outputs": [],
   "source": [
    "sub2 = pd.read_csv('../Probabilities/sub2_proba.csv')"
   ]
  },
  {
   "cell_type": "code",
   "execution_count": 4,
   "metadata": {},
   "outputs": [],
   "source": [
    "label_cols = ['Computer Science', 'Physics', 'Mathematics', 'Statistics', 'Quantitative Biology', 'Quantitative Finance']"
   ]
  },
  {
   "cell_type": "markdown",
   "metadata": {},
   "source": [
    "# Normal Averaging"
   ]
  },
  {
   "cell_type": "code",
   "execution_count": 5,
   "metadata": {},
   "outputs": [],
   "source": [
    "df_avg = sub1.copy()"
   ]
  },
  {
   "cell_type": "code",
   "execution_count": 6,
   "metadata": {},
   "outputs": [],
   "source": [
    "for col in label_cols:\n",
    "    df_avg[col] = (sub1[col] + sub2[col]) / 2"
   ]
  },
  {
   "cell_type": "code",
   "execution_count": 7,
   "metadata": {},
   "outputs": [],
   "source": [
    "df_avg.to_csv('../output/avg/avg_proba.csv', index=False)"
   ]
  },
  {
   "cell_type": "code",
   "execution_count": 8,
   "metadata": {},
   "outputs": [],
   "source": [
    "sub = df_avg.copy()"
   ]
  },
  {
   "cell_type": "markdown",
   "metadata": {},
   "source": [
    "**Threshold 0.4098**"
   ]
  },
  {
   "cell_type": "code",
   "execution_count": 9,
   "metadata": {},
   "outputs": [],
   "source": [
    "for col in label_cols:\n",
    "  sub[col] = sub[col].apply(lambda x:1 if x>0.4098 else 0)"
   ]
  },
  {
   "cell_type": "code",
   "execution_count": 10,
   "metadata": {},
   "outputs": [],
   "source": [
    "sub.to_csv('../Final Submissions/avg_0.4098.csv', index=False)\n",
    "#public lb 0.848786828422877"
   ]
  },
  {
   "cell_type": "markdown",
   "metadata": {},
   "source": [
    "# Weighted Average"
   ]
  },
  {
   "cell_type": "code",
   "execution_count": 11,
   "metadata": {},
   "outputs": [],
   "source": [
    "w_avg = sub1.copy()"
   ]
  },
  {
   "cell_type": "code",
   "execution_count": 12,
   "metadata": {},
   "outputs": [],
   "source": [
    "#40% ULMFiT, 60% BERT\n",
    "for col in label_cols:\n",
    "    w_avg[col] = sub1[col]*0.4 + sub2[col]*0.6"
   ]
  },
  {
   "cell_type": "code",
   "execution_count": 13,
   "metadata": {},
   "outputs": [
    {
     "data": {
      "text/html": [
       "<div>\n",
       "<style scoped>\n",
       "    .dataframe tbody tr th:only-of-type {\n",
       "        vertical-align: middle;\n",
       "    }\n",
       "\n",
       "    .dataframe tbody tr th {\n",
       "        vertical-align: top;\n",
       "    }\n",
       "\n",
       "    .dataframe thead th {\n",
       "        text-align: right;\n",
       "    }\n",
       "</style>\n",
       "<table border=\"1\" class=\"dataframe\">\n",
       "  <thead>\n",
       "    <tr style=\"text-align: right;\">\n",
       "      <th></th>\n",
       "      <th>ID</th>\n",
       "      <th>Computer Science</th>\n",
       "      <th>Physics</th>\n",
       "      <th>Mathematics</th>\n",
       "      <th>Statistics</th>\n",
       "      <th>Quantitative Biology</th>\n",
       "      <th>Quantitative Finance</th>\n",
       "    </tr>\n",
       "  </thead>\n",
       "  <tbody>\n",
       "    <tr>\n",
       "      <th>0</th>\n",
       "      <td>20973</td>\n",
       "      <td>0.362470</td>\n",
       "      <td>0.005020</td>\n",
       "      <td>0.227174</td>\n",
       "      <td>0.966786</td>\n",
       "      <td>0.001372</td>\n",
       "      <td>0.002453</td>\n",
       "    </tr>\n",
       "    <tr>\n",
       "      <th>1</th>\n",
       "      <td>20974</td>\n",
       "      <td>0.001169</td>\n",
       "      <td>0.997478</td>\n",
       "      <td>0.001285</td>\n",
       "      <td>0.002403</td>\n",
       "      <td>0.000211</td>\n",
       "      <td>0.000151</td>\n",
       "    </tr>\n",
       "    <tr>\n",
       "      <th>2</th>\n",
       "      <td>20975</td>\n",
       "      <td>0.951393</td>\n",
       "      <td>0.003768</td>\n",
       "      <td>0.055506</td>\n",
       "      <td>0.083409</td>\n",
       "      <td>0.000269</td>\n",
       "      <td>0.000298</td>\n",
       "    </tr>\n",
       "    <tr>\n",
       "      <th>3</th>\n",
       "      <td>20976</td>\n",
       "      <td>0.000652</td>\n",
       "      <td>0.998324</td>\n",
       "      <td>0.000976</td>\n",
       "      <td>0.000842</td>\n",
       "      <td>0.000277</td>\n",
       "      <td>0.000045</td>\n",
       "    </tr>\n",
       "    <tr>\n",
       "      <th>4</th>\n",
       "      <td>20977</td>\n",
       "      <td>0.994596</td>\n",
       "      <td>0.001240</td>\n",
       "      <td>0.033050</td>\n",
       "      <td>0.004444</td>\n",
       "      <td>0.000058</td>\n",
       "      <td>0.000099</td>\n",
       "    </tr>\n",
       "  </tbody>\n",
       "</table>\n",
       "</div>"
      ],
      "text/plain": [
       "      ID  Computer Science   Physics  Mathematics  Statistics  \\\n",
       "0  20973          0.362470  0.005020     0.227174    0.966786   \n",
       "1  20974          0.001169  0.997478     0.001285    0.002403   \n",
       "2  20975          0.951393  0.003768     0.055506    0.083409   \n",
       "3  20976          0.000652  0.998324     0.000976    0.000842   \n",
       "4  20977          0.994596  0.001240     0.033050    0.004444   \n",
       "\n",
       "   Quantitative Biology  Quantitative Finance  \n",
       "0              0.001372              0.002453  \n",
       "1              0.000211              0.000151  \n",
       "2              0.000269              0.000298  \n",
       "3              0.000277              0.000045  \n",
       "4              0.000058              0.000099  "
      ]
     },
     "execution_count": 13,
     "metadata": {},
     "output_type": "execute_result"
    }
   ],
   "source": [
    "w_avg.head()"
   ]
  },
  {
   "cell_type": "code",
   "execution_count": 14,
   "metadata": {},
   "outputs": [],
   "source": [
    "w_avg.to_csv('../Probabilities/wavg_proba.csv', index=False)"
   ]
  },
  {
   "cell_type": "markdown",
   "metadata": {},
   "source": [
    "**Threshold 0.4** "
   ]
  },
  {
   "cell_type": "code",
   "execution_count": 15,
   "metadata": {},
   "outputs": [],
   "source": [
    "sub_w = w_avg.copy()"
   ]
  },
  {
   "cell_type": "code",
   "execution_count": 16,
   "metadata": {},
   "outputs": [],
   "source": [
    "for col in label_cols:\n",
    "  sub_w[col] = sub_w[col].apply(lambda x:1 if x>0.40 else 0)"
   ]
  },
  {
   "cell_type": "code",
   "execution_count": 17,
   "metadata": {},
   "outputs": [],
   "source": [
    "sub_w.to_csv('../Final Submissions/wavg_0.4.csv', index=False)\n",
    "#public lb 0.849821602335388"
   ]
  },
  {
   "cell_type": "markdown",
   "metadata": {},
   "source": [
    "# Average ULMFiT BERT RoBERTa"
   ]
  },
  {
   "cell_type": "code",
   "execution_count": 1,
   "metadata": {},
   "outputs": [],
   "source": [
    "import numpy as np\n",
    "import pandas as pd\n",
    "import os"
   ]
  },
  {
   "cell_type": "code",
   "execution_count": 2,
   "metadata": {},
   "outputs": [],
   "source": [
    "sub1 = pd.read_csv('../Probabilities/sub1-4_proba.csv')\n",
    "#thresh 0.44 public lb 0.839035087719298"
   ]
  },
  {
   "cell_type": "code",
   "execution_count": 3,
   "metadata": {},
   "outputs": [],
   "source": [
    "sub2 = pd.read_csv('../Probabilities/sub2_proba.csv')\n",
    "#thres 0.42 public lb 0.845168295331162"
   ]
  },
  {
   "cell_type": "code",
   "execution_count": 4,
   "metadata": {},
   "outputs": [],
   "source": [
    "sub3 = pd.read_csv('../Probabilities/sub3_proba.csv')\n",
    "#thresh 0.4 public lb 0.835811177428106"
   ]
  },
  {
   "cell_type": "code",
   "execution_count": 5,
   "metadata": {},
   "outputs": [],
   "source": [
    "avg_3 = sub1.copy()"
   ]
  },
  {
   "cell_type": "code",
   "execution_count": 6,
   "metadata": {},
   "outputs": [],
   "source": [
    "label_cols = ['Computer Science', 'Physics', 'Mathematics', 'Statistics', 'Quantitative Biology', 'Quantitative Finance']"
   ]
  },
  {
   "cell_type": "code",
   "execution_count": 7,
   "metadata": {},
   "outputs": [],
   "source": [
    "for col in label_cols:\n",
    "    avg_3[col] = (sub1[col] + sub2[col] + sub3[col]) / 3"
   ]
  },
  {
   "cell_type": "code",
   "execution_count": 8,
   "metadata": {},
   "outputs": [],
   "source": [
    "avg_3.to_csv('../Probabilities/avg3_proba.csv', index=False)"
   ]
  },
  {
   "cell_type": "code",
   "execution_count": 9,
   "metadata": {},
   "outputs": [],
   "source": [
    "df_avg3 = avg_3.copy()\n",
    "for col in label_cols:\n",
    "    df_avg3[col] = df_avg3[col].apply(lambda x: 1 if x>0.461 else 0)\n",
    "df_avg3.to_csv(os.path.join('../Final Submissions', 'avg3_0.461.csv'), index=False)\n",
    "# thresh 0.461 public lb 0.851214911794075"
   ]
  },
  {
   "cell_type": "markdown",
   "metadata": {},
   "source": [
    "# Weighted Average of all 3 models"
   ]
  },
  {
   "cell_type": "code",
   "execution_count": 1,
   "metadata": {},
   "outputs": [],
   "source": [
    "import os\n",
    "from tqdm import tqdm\n",
    "import numpy as np\n",
    "import pandas as pd"
   ]
  },
  {
   "cell_type": "code",
   "execution_count": 2,
   "metadata": {},
   "outputs": [],
   "source": [
    "sub1 = pd.read_csv('../Probabilities/sub1-4_proba.csv')\n",
    "#thresh 0.44 public lb 0.839035087719298"
   ]
  },
  {
   "cell_type": "code",
   "execution_count": 3,
   "metadata": {},
   "outputs": [],
   "source": [
    "sub2 = pd.read_csv('../Probabilities/sub2_proba.csv')\n",
    "#thres 0.42 public lb 0.845168295331162"
   ]
  },
  {
   "cell_type": "code",
   "execution_count": 4,
   "metadata": {},
   "outputs": [],
   "source": [
    "sub3 = pd.read_csv('../Probabilities/sub3_proba.csv')\n",
    "#thresh 0.4 public lb 0.835811177428106"
   ]
  },
  {
   "cell_type": "code",
   "execution_count": 5,
   "metadata": {},
   "outputs": [
    {
     "data": {
      "text/html": [
       "<div>\n",
       "<style scoped>\n",
       "    .dataframe tbody tr th:only-of-type {\n",
       "        vertical-align: middle;\n",
       "    }\n",
       "\n",
       "    .dataframe tbody tr th {\n",
       "        vertical-align: top;\n",
       "    }\n",
       "\n",
       "    .dataframe thead th {\n",
       "        text-align: right;\n",
       "    }\n",
       "</style>\n",
       "<table border=\"1\" class=\"dataframe\">\n",
       "  <thead>\n",
       "    <tr style=\"text-align: right;\">\n",
       "      <th></th>\n",
       "      <th>ID</th>\n",
       "      <th>Computer Science</th>\n",
       "      <th>Physics</th>\n",
       "      <th>Mathematics</th>\n",
       "      <th>Statistics</th>\n",
       "      <th>Quantitative Biology</th>\n",
       "      <th>Quantitative Finance</th>\n",
       "    </tr>\n",
       "  </thead>\n",
       "  <tbody>\n",
       "    <tr>\n",
       "      <th>0</th>\n",
       "      <td>20973</td>\n",
       "      <td>0.261549</td>\n",
       "      <td>0.003867</td>\n",
       "      <td>0.177423</td>\n",
       "      <td>0.971942</td>\n",
       "      <td>0.002118</td>\n",
       "      <td>0.004429</td>\n",
       "    </tr>\n",
       "    <tr>\n",
       "      <th>1</th>\n",
       "      <td>20974</td>\n",
       "      <td>0.000949</td>\n",
       "      <td>0.996128</td>\n",
       "      <td>0.001243</td>\n",
       "      <td>0.004632</td>\n",
       "      <td>0.000048</td>\n",
       "      <td>0.000280</td>\n",
       "    </tr>\n",
       "  </tbody>\n",
       "</table>\n",
       "</div>"
      ],
      "text/plain": [
       "      ID  Computer Science   Physics  Mathematics  Statistics  \\\n",
       "0  20973          0.261549  0.003867     0.177423    0.971942   \n",
       "1  20974          0.000949  0.996128     0.001243    0.004632   \n",
       "\n",
       "   Quantitative Biology  Quantitative Finance  \n",
       "0              0.002118              0.004429  \n",
       "1              0.000048              0.000280  "
      ]
     },
     "execution_count": 5,
     "metadata": {},
     "output_type": "execute_result"
    }
   ],
   "source": [
    "sub1.head(2)"
   ]
  },
  {
   "cell_type": "code",
   "execution_count": 7,
   "metadata": {},
   "outputs": [
    {
     "data": {
      "text/html": [
       "<div>\n",
       "<style scoped>\n",
       "    .dataframe tbody tr th:only-of-type {\n",
       "        vertical-align: middle;\n",
       "    }\n",
       "\n",
       "    .dataframe tbody tr th {\n",
       "        vertical-align: top;\n",
       "    }\n",
       "\n",
       "    .dataframe thead th {\n",
       "        text-align: right;\n",
       "    }\n",
       "</style>\n",
       "<table border=\"1\" class=\"dataframe\">\n",
       "  <thead>\n",
       "    <tr style=\"text-align: right;\">\n",
       "      <th></th>\n",
       "      <th>ID</th>\n",
       "      <th>Computer Science</th>\n",
       "      <th>Physics</th>\n",
       "      <th>Mathematics</th>\n",
       "      <th>Statistics</th>\n",
       "      <th>Quantitative Biology</th>\n",
       "      <th>Quantitative Finance</th>\n",
       "    </tr>\n",
       "  </thead>\n",
       "  <tbody>\n",
       "    <tr>\n",
       "      <th>0</th>\n",
       "      <td>20973</td>\n",
       "      <td>0.429751</td>\n",
       "      <td>0.005789</td>\n",
       "      <td>0.260341</td>\n",
       "      <td>0.963349</td>\n",
       "      <td>0.000875</td>\n",
       "      <td>0.001135</td>\n",
       "    </tr>\n",
       "    <tr>\n",
       "      <th>1</th>\n",
       "      <td>20974</td>\n",
       "      <td>0.001316</td>\n",
       "      <td>0.998377</td>\n",
       "      <td>0.001312</td>\n",
       "      <td>0.000917</td>\n",
       "      <td>0.000320</td>\n",
       "      <td>0.000065</td>\n",
       "    </tr>\n",
       "  </tbody>\n",
       "</table>\n",
       "</div>"
      ],
      "text/plain": [
       "      ID  Computer Science   Physics  Mathematics  Statistics  \\\n",
       "0  20973          0.429751  0.005789     0.260341    0.963349   \n",
       "1  20974          0.001316  0.998377     0.001312    0.000917   \n",
       "\n",
       "   Quantitative Biology  Quantitative Finance  \n",
       "0              0.000875              0.001135  \n",
       "1              0.000320              0.000065  "
      ]
     },
     "execution_count": 7,
     "metadata": {},
     "output_type": "execute_result"
    }
   ],
   "source": [
    "sub2.head(2)"
   ]
  },
  {
   "cell_type": "code",
   "execution_count": 8,
   "metadata": {},
   "outputs": [
    {
     "data": {
      "text/html": [
       "<div>\n",
       "<style scoped>\n",
       "    .dataframe tbody tr th:only-of-type {\n",
       "        vertical-align: middle;\n",
       "    }\n",
       "\n",
       "    .dataframe tbody tr th {\n",
       "        vertical-align: top;\n",
       "    }\n",
       "\n",
       "    .dataframe thead th {\n",
       "        text-align: right;\n",
       "    }\n",
       "</style>\n",
       "<table border=\"1\" class=\"dataframe\">\n",
       "  <thead>\n",
       "    <tr style=\"text-align: right;\">\n",
       "      <th></th>\n",
       "      <th>ID</th>\n",
       "      <th>Computer Science</th>\n",
       "      <th>Physics</th>\n",
       "      <th>Mathematics</th>\n",
       "      <th>Statistics</th>\n",
       "      <th>Quantitative Biology</th>\n",
       "      <th>Quantitative Finance</th>\n",
       "    </tr>\n",
       "  </thead>\n",
       "  <tbody>\n",
       "    <tr>\n",
       "      <th>0</th>\n",
       "      <td>20973</td>\n",
       "      <td>0.643425</td>\n",
       "      <td>0.012784</td>\n",
       "      <td>0.139534</td>\n",
       "      <td>0.894663</td>\n",
       "      <td>0.010055</td>\n",
       "      <td>0.009023</td>\n",
       "    </tr>\n",
       "    <tr>\n",
       "      <th>1</th>\n",
       "      <td>20974</td>\n",
       "      <td>0.019856</td>\n",
       "      <td>0.981392</td>\n",
       "      <td>0.018401</td>\n",
       "      <td>0.019651</td>\n",
       "      <td>0.017201</td>\n",
       "      <td>0.016550</td>\n",
       "    </tr>\n",
       "  </tbody>\n",
       "</table>\n",
       "</div>"
      ],
      "text/plain": [
       "      ID  Computer Science   Physics  Mathematics  Statistics  \\\n",
       "0  20973          0.643425  0.012784     0.139534    0.894663   \n",
       "1  20974          0.019856  0.981392     0.018401    0.019651   \n",
       "\n",
       "   Quantitative Biology  Quantitative Finance  \n",
       "0              0.010055              0.009023  \n",
       "1              0.017201              0.016550  "
      ]
     },
     "execution_count": 8,
     "metadata": {},
     "output_type": "execute_result"
    }
   ],
   "source": [
    "sub3.head(2)"
   ]
  },
  {
   "cell_type": "code",
   "execution_count": 9,
   "metadata": {},
   "outputs": [],
   "source": [
    "w_avg3 = sub1.copy()"
   ]
  },
  {
   "cell_type": "code",
   "execution_count": 10,
   "metadata": {},
   "outputs": [],
   "source": [
    "label_cols = ['Computer Science', 'Physics', 'Mathematics', 'Statistics', 'Quantitative Biology', 'Quantitative Finance']"
   ]
  },
  {
   "cell_type": "code",
   "execution_count": 11,
   "metadata": {},
   "outputs": [],
   "source": [
    "for col in label_cols:\n",
    "    w_avg3[col] = sub1[col]*0.35 + sub2[col]*0.45 + sub3[col]*0.2"
   ]
  },
  {
   "cell_type": "code",
   "execution_count": 23,
   "metadata": {},
   "outputs": [
    {
     "data": {
      "text/html": [
       "<div>\n",
       "<style scoped>\n",
       "    .dataframe tbody tr th:only-of-type {\n",
       "        vertical-align: middle;\n",
       "    }\n",
       "\n",
       "    .dataframe tbody tr th {\n",
       "        vertical-align: top;\n",
       "    }\n",
       "\n",
       "    .dataframe thead th {\n",
       "        text-align: right;\n",
       "    }\n",
       "</style>\n",
       "<table border=\"1\" class=\"dataframe\">\n",
       "  <thead>\n",
       "    <tr style=\"text-align: right;\">\n",
       "      <th></th>\n",
       "      <th>ID</th>\n",
       "      <th>Computer Science</th>\n",
       "      <th>Physics</th>\n",
       "      <th>Mathematics</th>\n",
       "      <th>Statistics</th>\n",
       "      <th>Quantitative Biology</th>\n",
       "      <th>Quantitative Finance</th>\n",
       "    </tr>\n",
       "  </thead>\n",
       "  <tbody>\n",
       "    <tr>\n",
       "      <th>0</th>\n",
       "      <td>20973</td>\n",
       "      <td>0.413615</td>\n",
       "      <td>0.006515</td>\n",
       "      <td>0.207158</td>\n",
       "      <td>0.952619</td>\n",
       "      <td>0.003146</td>\n",
       "      <td>0.003865</td>\n",
       "    </tr>\n",
       "    <tr>\n",
       "      <th>1</th>\n",
       "      <td>20974</td>\n",
       "      <td>0.004895</td>\n",
       "      <td>0.994193</td>\n",
       "      <td>0.004706</td>\n",
       "      <td>0.005964</td>\n",
       "      <td>0.003601</td>\n",
       "      <td>0.003437</td>\n",
       "    </tr>\n",
       "    <tr>\n",
       "      <th>2</th>\n",
       "      <td>20975</td>\n",
       "      <td>0.950610</td>\n",
       "      <td>0.006659</td>\n",
       "      <td>0.082086</td>\n",
       "      <td>0.079222</td>\n",
       "      <td>0.002172</td>\n",
       "      <td>0.002304</td>\n",
       "    </tr>\n",
       "    <tr>\n",
       "      <th>3</th>\n",
       "      <td>20976</td>\n",
       "      <td>0.004772</td>\n",
       "      <td>0.994658</td>\n",
       "      <td>0.003849</td>\n",
       "      <td>0.004889</td>\n",
       "      <td>0.004456</td>\n",
       "      <td>0.003151</td>\n",
       "    </tr>\n",
       "    <tr>\n",
       "      <th>4</th>\n",
       "      <td>20977</td>\n",
       "      <td>0.990265</td>\n",
       "      <td>0.007809</td>\n",
       "      <td>0.044454</td>\n",
       "      <td>0.008036</td>\n",
       "      <td>0.002480</td>\n",
       "      <td>0.002153</td>\n",
       "    </tr>\n",
       "    <tr>\n",
       "      <th>5</th>\n",
       "      <td>20978</td>\n",
       "      <td>0.074759</td>\n",
       "      <td>0.013954</td>\n",
       "      <td>0.429756</td>\n",
       "      <td>0.952675</td>\n",
       "      <td>0.026850</td>\n",
       "      <td>0.004121</td>\n",
       "    </tr>\n",
       "    <tr>\n",
       "      <th>6</th>\n",
       "      <td>20979</td>\n",
       "      <td>0.014004</td>\n",
       "      <td>0.008297</td>\n",
       "      <td>0.916734</td>\n",
       "      <td>0.967967</td>\n",
       "      <td>0.007372</td>\n",
       "      <td>0.012994</td>\n",
       "    </tr>\n",
       "    <tr>\n",
       "      <th>7</th>\n",
       "      <td>20980</td>\n",
       "      <td>0.192648</td>\n",
       "      <td>0.953559</td>\n",
       "      <td>0.003392</td>\n",
       "      <td>0.149777</td>\n",
       "      <td>0.006820</td>\n",
       "      <td>0.002391</td>\n",
       "    </tr>\n",
       "    <tr>\n",
       "      <th>8</th>\n",
       "      <td>20981</td>\n",
       "      <td>0.990195</td>\n",
       "      <td>0.015307</td>\n",
       "      <td>0.004289</td>\n",
       "      <td>0.041309</td>\n",
       "      <td>0.008357</td>\n",
       "      <td>0.002633</td>\n",
       "    </tr>\n",
       "    <tr>\n",
       "      <th>9</th>\n",
       "      <td>20982</td>\n",
       "      <td>0.005398</td>\n",
       "      <td>0.995218</td>\n",
       "      <td>0.003738</td>\n",
       "      <td>0.004668</td>\n",
       "      <td>0.004039</td>\n",
       "      <td>0.003180</td>\n",
       "    </tr>\n",
       "    <tr>\n",
       "      <th>10</th>\n",
       "      <td>20983</td>\n",
       "      <td>0.167794</td>\n",
       "      <td>0.859287</td>\n",
       "      <td>0.049058</td>\n",
       "      <td>0.021862</td>\n",
       "      <td>0.080494</td>\n",
       "      <td>0.005364</td>\n",
       "    </tr>\n",
       "    <tr>\n",
       "      <th>11</th>\n",
       "      <td>20984</td>\n",
       "      <td>0.964791</td>\n",
       "      <td>0.006641</td>\n",
       "      <td>0.002054</td>\n",
       "      <td>0.196638</td>\n",
       "      <td>0.003398</td>\n",
       "      <td>0.001722</td>\n",
       "    </tr>\n",
       "    <tr>\n",
       "      <th>12</th>\n",
       "      <td>20985</td>\n",
       "      <td>0.019230</td>\n",
       "      <td>0.151291</td>\n",
       "      <td>0.957223</td>\n",
       "      <td>0.002739</td>\n",
       "      <td>0.001621</td>\n",
       "      <td>0.001939</td>\n",
       "    </tr>\n",
       "    <tr>\n",
       "      <th>13</th>\n",
       "      <td>20986</td>\n",
       "      <td>0.833371</td>\n",
       "      <td>0.033997</td>\n",
       "      <td>0.069679</td>\n",
       "      <td>0.065567</td>\n",
       "      <td>0.017934</td>\n",
       "      <td>0.019540</td>\n",
       "    </tr>\n",
       "    <tr>\n",
       "      <th>14</th>\n",
       "      <td>20987</td>\n",
       "      <td>0.432865</td>\n",
       "      <td>0.202375</td>\n",
       "      <td>0.071232</td>\n",
       "      <td>0.703688</td>\n",
       "      <td>0.015333</td>\n",
       "      <td>0.005078</td>\n",
       "    </tr>\n",
       "  </tbody>\n",
       "</table>\n",
       "</div>"
      ],
      "text/plain": [
       "       ID  Computer Science   Physics  Mathematics  Statistics  \\\n",
       "0   20973          0.413615  0.006515     0.207158    0.952619   \n",
       "1   20974          0.004895  0.994193     0.004706    0.005964   \n",
       "2   20975          0.950610  0.006659     0.082086    0.079222   \n",
       "3   20976          0.004772  0.994658     0.003849    0.004889   \n",
       "4   20977          0.990265  0.007809     0.044454    0.008036   \n",
       "5   20978          0.074759  0.013954     0.429756    0.952675   \n",
       "6   20979          0.014004  0.008297     0.916734    0.967967   \n",
       "7   20980          0.192648  0.953559     0.003392    0.149777   \n",
       "8   20981          0.990195  0.015307     0.004289    0.041309   \n",
       "9   20982          0.005398  0.995218     0.003738    0.004668   \n",
       "10  20983          0.167794  0.859287     0.049058    0.021862   \n",
       "11  20984          0.964791  0.006641     0.002054    0.196638   \n",
       "12  20985          0.019230  0.151291     0.957223    0.002739   \n",
       "13  20986          0.833371  0.033997     0.069679    0.065567   \n",
       "14  20987          0.432865  0.202375     0.071232    0.703688   \n",
       "\n",
       "    Quantitative Biology  Quantitative Finance  \n",
       "0               0.003146              0.003865  \n",
       "1               0.003601              0.003437  \n",
       "2               0.002172              0.002304  \n",
       "3               0.004456              0.003151  \n",
       "4               0.002480              0.002153  \n",
       "5               0.026850              0.004121  \n",
       "6               0.007372              0.012994  \n",
       "7               0.006820              0.002391  \n",
       "8               0.008357              0.002633  \n",
       "9               0.004039              0.003180  \n",
       "10              0.080494              0.005364  \n",
       "11              0.003398              0.001722  \n",
       "12              0.001621              0.001939  \n",
       "13              0.017934              0.019540  \n",
       "14              0.015333              0.005078  "
      ]
     },
     "execution_count": 23,
     "metadata": {},
     "output_type": "execute_result"
    }
   ],
   "source": [
    "w_avg3.head(15)"
   ]
  },
  {
   "cell_type": "code",
   "execution_count": 20,
   "metadata": {},
   "outputs": [
    {
     "data": {
      "text/html": [
       "<div>\n",
       "<style scoped>\n",
       "    .dataframe tbody tr th:only-of-type {\n",
       "        vertical-align: middle;\n",
       "    }\n",
       "\n",
       "    .dataframe tbody tr th {\n",
       "        vertical-align: top;\n",
       "    }\n",
       "\n",
       "    .dataframe thead th {\n",
       "        text-align: right;\n",
       "    }\n",
       "</style>\n",
       "<table border=\"1\" class=\"dataframe\">\n",
       "  <thead>\n",
       "    <tr style=\"text-align: right;\">\n",
       "      <th></th>\n",
       "      <th>ID</th>\n",
       "      <th>Computer Science</th>\n",
       "      <th>Physics</th>\n",
       "      <th>Mathematics</th>\n",
       "      <th>Statistics</th>\n",
       "      <th>Quantitative Biology</th>\n",
       "      <th>Quantitative Finance</th>\n",
       "    </tr>\n",
       "  </thead>\n",
       "  <tbody>\n",
       "    <tr>\n",
       "      <th>8984</th>\n",
       "      <td>29957</td>\n",
       "      <td>0.957866</td>\n",
       "      <td>0.048475</td>\n",
       "      <td>0.055686</td>\n",
       "      <td>0.007521</td>\n",
       "      <td>0.003255</td>\n",
       "      <td>0.001744</td>\n",
       "    </tr>\n",
       "    <tr>\n",
       "      <th>8985</th>\n",
       "      <td>29958</td>\n",
       "      <td>0.442830</td>\n",
       "      <td>0.004400</td>\n",
       "      <td>0.894893</td>\n",
       "      <td>0.142046</td>\n",
       "      <td>0.003242</td>\n",
       "      <td>0.007768</td>\n",
       "    </tr>\n",
       "    <tr>\n",
       "      <th>8986</th>\n",
       "      <td>29959</td>\n",
       "      <td>0.233123</td>\n",
       "      <td>0.049257</td>\n",
       "      <td>0.015175</td>\n",
       "      <td>0.449962</td>\n",
       "      <td>0.745590</td>\n",
       "      <td>0.006350</td>\n",
       "    </tr>\n",
       "    <tr>\n",
       "      <th>8987</th>\n",
       "      <td>29960</td>\n",
       "      <td>0.138303</td>\n",
       "      <td>0.008165</td>\n",
       "      <td>0.161593</td>\n",
       "      <td>0.967341</td>\n",
       "      <td>0.005060</td>\n",
       "      <td>0.005939</td>\n",
       "    </tr>\n",
       "    <tr>\n",
       "      <th>8988</th>\n",
       "      <td>29961</td>\n",
       "      <td>0.716392</td>\n",
       "      <td>0.005877</td>\n",
       "      <td>0.591087</td>\n",
       "      <td>0.012680</td>\n",
       "      <td>0.001921</td>\n",
       "      <td>0.001510</td>\n",
       "    </tr>\n",
       "  </tbody>\n",
       "</table>\n",
       "</div>"
      ],
      "text/plain": [
       "         ID  Computer Science   Physics  Mathematics  Statistics  \\\n",
       "8984  29957          0.957866  0.048475     0.055686    0.007521   \n",
       "8985  29958          0.442830  0.004400     0.894893    0.142046   \n",
       "8986  29959          0.233123  0.049257     0.015175    0.449962   \n",
       "8987  29960          0.138303  0.008165     0.161593    0.967341   \n",
       "8988  29961          0.716392  0.005877     0.591087    0.012680   \n",
       "\n",
       "      Quantitative Biology  Quantitative Finance  \n",
       "8984              0.003255              0.001744  \n",
       "8985              0.003242              0.007768  \n",
       "8986              0.745590              0.006350  \n",
       "8987              0.005060              0.005939  \n",
       "8988              0.001921              0.001510  "
      ]
     },
     "execution_count": 20,
     "metadata": {},
     "output_type": "execute_result"
    }
   ],
   "source": [
    "w_avg3.tail()"
   ]
  },
  {
   "cell_type": "code",
   "execution_count": 13,
   "metadata": {},
   "outputs": [],
   "source": [
    "w_avg3.to_csv('../Probabilities/w_avg3_proba.csv', index=False)"
   ]
  },
  {
   "cell_type": "code",
   "execution_count": 15,
   "metadata": {},
   "outputs": [],
   "source": [
    "df_45 = w_avg3.copy()\n",
    "for col in label_cols:\n",
    "    df_45[col] = df_45[col].apply(lambda x: 1 if x>0.45 else 0)\n",
    "df_45.to_csv(os.path.join('../Final Submissions', 'w_avg3_0.45.csv'), index=False)\n",
    "# public lb 0.851851851851852        "
   ]
  },
  {
   "cell_type": "markdown",
   "metadata": {},
   "source": [
    "## Try ranges of thresholds between 0.45 to 0.46"
   ]
  },
  {
   "cell_type": "code",
   "execution_count": 16,
   "metadata": {},
   "outputs": [],
   "source": [
    "def try_thres(t_range, df, label_cols):\n",
    "    \n",
    "    for thresh in tqdm(t_range):\n",
    "        df_t = df.copy()\n",
    "        for col in label_cols:\n",
    "            df_t[col] = df_t[col].apply(lambda x: 1 if x>thresh else 0)\n",
    "        df_t.to_csv(os.path.join('../Final Submissions', 'w_avg3_'+str(thresh)+'.csv'), index=False)"
   ]
  },
  {
   "cell_type": "code",
   "execution_count": 17,
   "metadata": {},
   "outputs": [
    {
     "data": {
      "text/plain": [
       "array([0.451, 0.452, 0.453, 0.454, 0.455, 0.456, 0.457, 0.458, 0.459,\n",
       "       0.46 ])"
      ]
     },
     "execution_count": 17,
     "metadata": {},
     "output_type": "execute_result"
    }
   ],
   "source": [
    "t_range_45 = np.linspace(0.451, 0.46, 10)\n",
    "t_range_45"
   ]
  },
  {
   "cell_type": "code",
   "execution_count": 18,
   "metadata": {},
   "outputs": [
    {
     "name": "stderr",
     "output_type": "stream",
     "text": [
      "100%|██████████| 10/10 [00:00<00:00, 23.99it/s]\n"
     ]
    }
   ],
   "source": [
    "try_thres(t_range_45, w_avg3, label_cols)"
   ]
  },
  {
   "cell_type": "code",
   "execution_count": 19,
   "metadata": {},
   "outputs": [],
   "source": [
    "#thresh 0.458 public lb 0.852596685082873"
   ]
  },
  {
   "cell_type": "markdown",
   "metadata": {},
   "source": [
    "# Voting Classifier ( Public LB: 0.85281 Private LB: 0.84937)"
   ]
  },
  {
   "cell_type": "code",
   "execution_count": 24,
   "metadata": {},
   "outputs": [],
   "source": [
    "#BERT\n",
    "sub2_best = pd.read_csv('../Final Submissions/sub2-0.42.csv')\n",
    "#thres 0.42 public lb 0.845168295331162"
   ]
  },
  {
   "cell_type": "code",
   "execution_count": 25,
   "metadata": {},
   "outputs": [],
   "source": [
    "#0.4 ULM 0.6 BERT\n",
    "w_avg2 = pd.read_csv('../Final Submissions/wavg_0.4.csv')\n",
    "#thresh 0.4 public lb 0.849821602335388"
   ]
  },
  {
   "cell_type": "code",
   "execution_count": 26,
   "metadata": {},
   "outputs": [],
   "source": [
    "#0.35 ULM 0.45 BERT 0.20 RoBERTa\n",
    "w_avg3 = pd.read_csv('../Final Submissions/w_avg3_0.458.csv')\n",
    "#thresh 0.458 public lb 0.852596685082873"
   ]
  },
  {
   "cell_type": "code",
   "execution_count": 27,
   "metadata": {},
   "outputs": [],
   "source": [
    "#avg all 3\n",
    "avg3 = pd.read_csv('../Final Submissions/avg3_0.461.csv')\n",
    "#thresh 0.461 public lb 0.851214911794075"
   ]
  },
  {
   "cell_type": "code",
   "execution_count": 28,
   "metadata": {},
   "outputs": [],
   "source": [
    "voter = avg3.copy()"
   ]
  },
  {
   "cell_type": "code",
   "execution_count": 31,
   "metadata": {},
   "outputs": [],
   "source": [
    "for col in label_cols:\n",
    "    voter[col] = sub2_best[col] + w_avg2[col] + avg3[col] + w_avg3[col]"
   ]
  },
  {
   "cell_type": "code",
   "execution_count": 32,
   "metadata": {},
   "outputs": [],
   "source": [
    "for col in label_cols:\n",
    "    voter[col] = voter[col].apply(lambda x: 1 if x>2 else 0)"
   ]
  },
  {
   "cell_type": "code",
   "execution_count": 33,
   "metadata": {},
   "outputs": [],
   "source": [
    "voter.to_csv('../Final Submissions/voter.csv', index=False)\n",
    "#public 0.852807619891461"
   ]
  }
 ],
 "metadata": {
  "kernelspec": {
   "display_name": "Python 3",
   "language": "python",
   "name": "python3"
  },
  "language_info": {
   "codemirror_mode": {
    "name": "ipython",
    "version": 3
   },
   "file_extension": ".py",
   "mimetype": "text/x-python",
   "name": "python",
   "nbconvert_exporter": "python",
   "pygments_lexer": "ipython3",
   "version": "3.7.7"
  }
 },
 "nbformat": 4,
 "nbformat_minor": 4
}
